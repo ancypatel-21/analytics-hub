{
 "cells": [
  {
   "cell_type": "code",
   "execution_count": 1,
   "metadata": {},
   "outputs": [
    {
     "name": "stdout",
     "output_type": "stream",
     "text": [
      "True\n",
      "NVIDIA GeForce GTX 1650 Ti\n"
     ]
    }
   ],
   "source": [
    "import torch\n",
    "print(torch.cuda.is_available())  # Should print True\n",
    "print(torch.cuda.get_device_name(0))  # Check your GPU name\n"
   ]
  },
  {
   "cell_type": "code",
   "execution_count": 1,
   "metadata": {},
   "outputs": [
    {
     "name": "stdout",
     "output_type": "stream",
     "text": [
      "['config.json', 'generation_config.json', 'model.safetensors', 'special_tokens_map.json', 'spiece.model', 'tokenizer_config.json']\n"
     ]
    }
   ],
   "source": [
    "import os\n",
    "\n",
    "model_path = r\"C:\\Users\\nihar\\Desktop\\8th Sem\\Hugging_Face\\pegasus_summarization\"  # Update this with the actual path\n",
    "print(os.listdir(model_path))\n"
   ]
  },
  {
   "cell_type": "code",
   "execution_count": 2,
   "metadata": {},
   "outputs": [
    {
     "name": "stdout",
     "output_type": "stream",
     "text": [
      "['PegasusForConditionalGeneration']\n"
     ]
    }
   ],
   "source": [
    "import json\n",
    "\n",
    "config_path = os.path.join(model_path, \"config.json\")\n",
    "with open(config_path, \"r\") as f:\n",
    "    config = json.load(f)\n",
    "\n",
    "print(config.get(\"architectures\", \"Unknown Model\"))\n"
   ]
  },
  {
   "cell_type": "code",
   "execution_count": null,
   "metadata": {},
   "outputs": [],
   "source": [
    "from transformers import PegasusTokenizer, PegasusForConditionalGeneration\n",
    "import torch\n",
    "\n",
    "# Load the model and tokenizer from the local folder\n",
    "model_path = r\"C:\\Users\\nihar\\Desktop\\8th Sem\\Hugging_Face\\pegasus_summarization\"  # Update this with the actual path\n",
    "tokenizer = PegasusTokenizer.from_pretrained(model_path)\n",
    "model = PegasusForConditionalGeneration.from_pretrained(model_path).to(\"cuda\" if torch.cuda.is_available() else \"cpu\")\n",
    "\n",
    "def summarize_text(text):\n",
    "    max_tokens = 1056\n",
    "    input_tokens = tokenizer.encode(text, return_tensors=\"pt\", truncation=False).shape[1]\n",
    "\n",
    "    # Determine target summary length (25% of input length)\n",
    "    target_length = max(1, int(input_tokens * 0.25))\n",
    "\n",
    "    if input_tokens <= max_tokens:\n",
    "        # Summarize normally\n",
    "        inputs = tokenizer(text, return_tensors=\"pt\", truncation=True, max_length=max_tokens).to(model.device)\n",
    "        summary_ids = model.generate(**inputs, max_length=target_length, min_length=target_length//2, length_penalty=2.0, num_beams=4)\n",
    "        return tokenizer.decode(summary_ids[0], skip_special_tokens=True)\n",
    "\n",
    "    else:\n",
    "        # Chunking logic\n",
    "        chunk_size = max_tokens - 56  # Keep some buffer space for special tokens\n",
    "        chunks = [text[i:i+chunk_size] for i in range(0, len(text), chunk_size)]\n",
    "        summaries = []\n",
    "\n",
    "        for chunk in chunks:\n",
    "            inputs = tokenizer(chunk, return_tensors=\"pt\", truncation=True, max_length=max_tokens).to(model.device)\n",
    "            summary_ids = model.generate(**inputs, max_length=target_length//len(chunks), min_length=(target_length//len(chunks))//2, length_penalty=2.0, num_beams=4)\n",
    "            summaries.append(tokenizer.decode(summary_ids[0], skip_special_tokens=True))\n",
    "\n",
    "        return \" \".join(summaries)  # Merge chunked summaries\n",
    "\n",
    "# Example usage\n",
    "text = \"\"\"In Python, decorators are a powerful and flexible way to modify or extend the behavior of functions or methods, without changing their actual code. A decorator is essentially a function that takes another function as an argument and returns a new function with enhanced functionality.\n",
    "\n",
    "Decorators are often used in scenarios such as logging, authentication and memorization, allowing us to add additional functionality to existing functions or methods in a clean, reusable way.Explanation of Parameters\n",
    "1. decorator_name(func):\n",
    "\n",
    "decorator_name: This is the name of the decorator function.\n",
    "func: This parameter represents the function being decorated. When you use a decorator, the decorated function is passed to this parameter.\n",
    "2. wrapper(*args, **kwargs):\n",
    "\n",
    "wrapper: This is a nested function inside the decorator. It wraps the original function, adding additional functionality.\n",
    "*args: This collects any positional arguments passed to the decorated function into a tuple.\n",
    "**kwargs: This collects any keyword arguments passed to the decorated function into a dictionary.\n",
    "The wrapper function allows the decorator to handle functions with any number and types of arguments.\n",
    "3. @decorator_name:\n",
    "\n",
    "This syntax applies the decorator to the function_to_decorate function. It is equivalent to writing function_to_decorate = decorator_name(function_to_decorate).\"\"\"\n",
    "summary = summarize_text(text)\n",
    "print(summary)\n"
   ]
  },
  {
   "cell_type": "code",
   "execution_count": 4,
   "metadata": {},
   "outputs": [
    {
     "name": "stdout",
     "output_type": "stream",
     "text": [
      "['config.json', 'generation_config.json', 'model.safetensors', 'special_tokens_map.json', 'spiece.model', 'tokenizer_config.json']\n"
     ]
    }
   ],
   "source": [
    "import os\n",
    "\n",
    "model_path = r\"C:\\Users\\nihar\\Desktop\\8th Sem\\Hugging_Face\\pegasus_summarization\"\n",
    "print(os.listdir(model_path))\n"
   ]
  }
 ],
 "metadata": {
  "kernelspec": {
   "display_name": "Python 3",
   "language": "python",
   "name": "python3"
  },
  "language_info": {
   "codemirror_mode": {
    "name": "ipython",
    "version": 3
   },
   "file_extension": ".py",
   "mimetype": "text/x-python",
   "name": "python",
   "nbconvert_exporter": "python",
   "pygments_lexer": "ipython3",
   "version": "3.12.3"
  }
 },
 "nbformat": 4,
 "nbformat_minor": 2
}

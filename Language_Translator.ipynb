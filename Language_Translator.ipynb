{
 "cells": [
  {
   "cell_type": "markdown",
   "metadata": {},
   "source": [
    "# Language Translator"
   ]
  },
  {
   "cell_type": "code",
   "execution_count": 1,
   "metadata": {},
   "outputs": [
    {
     "name": "stdout",
     "output_type": "stream",
     "text": [
      "{'af': 'afrikaans', 'sq': 'albanian', 'am': 'amharic', 'ar': 'arabic', 'hy': 'armenian', 'az': 'azerbaijani', 'eu': 'basque', 'be': 'belarusian', 'bn': 'bengali', 'bs': 'bosnian', 'bg': 'bulgarian', 'ca': 'catalan', 'ceb': 'cebuano', 'ny': 'chichewa', 'zh-cn': 'chinese (simplified)', 'zh-tw': 'chinese (traditional)', 'co': 'corsican', 'hr': 'croatian', 'cs': 'czech', 'da': 'danish', 'nl': 'dutch', 'en': 'english', 'eo': 'esperanto', 'et': 'estonian', 'tl': 'filipino', 'fi': 'finnish', 'fr': 'french', 'fy': 'frisian', 'gl': 'galician', 'ka': 'georgian', 'de': 'german', 'el': 'greek', 'gu': 'gujarati', 'ht': 'haitian creole', 'ha': 'hausa', 'haw': 'hawaiian', 'iw': 'hebrew', 'he': 'hebrew', 'hi': 'hindi', 'hmn': 'hmong', 'hu': 'hungarian', 'is': 'icelandic', 'ig': 'igbo', 'id': 'indonesian', 'ga': 'irish', 'it': 'italian', 'ja': 'japanese', 'jw': 'javanese', 'kn': 'kannada', 'kk': 'kazakh', 'km': 'khmer', 'ko': 'korean', 'ku': 'kurdish (kurmanji)', 'ky': 'kyrgyz', 'lo': 'lao', 'la': 'latin', 'lv': 'latvian', 'lt': 'lithuanian', 'lb': 'luxembourgish', 'mk': 'macedonian', 'mg': 'malagasy', 'ms': 'malay', 'ml': 'malayalam', 'mt': 'maltese', 'mi': 'maori', 'mr': 'marathi', 'mn': 'mongolian', 'my': 'myanmar (burmese)', 'ne': 'nepali', 'no': 'norwegian', 'or': 'odia', 'ps': 'pashto', 'fa': 'persian', 'pl': 'polish', 'pt': 'portuguese', 'pa': 'punjabi', 'ro': 'romanian', 'ru': 'russian', 'sm': 'samoan', 'gd': 'scots gaelic', 'sr': 'serbian', 'st': 'sesotho', 'sn': 'shona', 'sd': 'sindhi', 'si': 'sinhala', 'sk': 'slovak', 'sl': 'slovenian', 'so': 'somali', 'es': 'spanish', 'su': 'sundanese', 'sw': 'swahili', 'sv': 'swedish', 'tg': 'tajik', 'ta': 'tamil', 'te': 'telugu', 'th': 'thai', 'tr': 'turkish', 'uk': 'ukrainian', 'ur': 'urdu', 'ug': 'uyghur', 'uz': 'uzbek', 'vi': 'vietnamese', 'cy': 'welsh', 'xh': 'xhosa', 'yi': 'yiddish', 'yo': 'yoruba', 'zu': 'zulu'}\n",
      "107\n"
     ]
    }
   ],
   "source": [
    "import googletrans\n",
    "lang = googletrans.LANGUAGES\n",
    "print(lang)\n",
    "print(len(lang))"
   ]
  },
  {
   "cell_type": "code",
   "execution_count": 3,
   "metadata": {},
   "outputs": [
    {
     "name": "stdout",
     "output_type": "stream",
     "text": [
      "['afrikaans', 'albanian', 'amharic', 'arabic', 'armenian', 'azerbaijani', 'basque', 'belarusian', 'bengali', 'bosnian', 'bulgarian', 'catalan', 'cebuano', 'chichewa', 'chinese (simplified)', 'chinese (traditional)', 'corsican', 'croatian', 'czech', 'danish', 'dutch', 'english', 'esperanto', 'estonian', 'filipino', 'finnish', 'french', 'frisian', 'galician', 'georgian', 'german', 'greek', 'gujarati', 'haitian creole', 'hausa', 'hawaiian', 'hebrew', 'hebrew', 'hindi', 'hmong', 'hungarian', 'icelandic', 'igbo', 'indonesian', 'irish', 'italian', 'japanese', 'javanese', 'kannada', 'kazakh', 'khmer', 'korean', 'kurdish (kurmanji)', 'kyrgyz', 'lao', 'latin', 'latvian', 'lithuanian', 'luxembourgish', 'macedonian', 'malagasy', 'malay', 'malayalam', 'maltese', 'maori', 'marathi', 'mongolian', 'myanmar (burmese)', 'nepali', 'norwegian', 'odia', 'pashto', 'persian', 'polish', 'portuguese', 'punjabi', 'romanian', 'russian', 'samoan', 'scots gaelic', 'serbian', 'sesotho', 'shona', 'sindhi', 'sinhala', 'slovak', 'slovenian', 'somali', 'spanish', 'sundanese', 'swahili', 'swedish', 'tajik', 'tamil', 'telugu', 'thai', 'turkish', 'ukrainian', 'urdu', 'uyghur', 'uzbek', 'vietnamese', 'welsh', 'xhosa', 'yiddish', 'yoruba', 'zulu']\n"
     ]
    }
   ],
   "source": [
    "print(list(lang.values()))"
   ]
  },
  {
   "cell_type": "code",
   "execution_count": 2,
   "metadata": {},
   "outputs": [],
   "source": [
    "from googletrans import Translator\n",
    "translator = Translator()"
   ]
  },
  {
   "cell_type": "code",
   "execution_count": 5,
   "metadata": {},
   "outputs": [],
   "source": [
    "from docx import Document\n",
    "from bs4 import BeautifulSoup\n",
    "import fitz\n",
    "import pytesseract\n",
    "from PIL import Image"
   ]
  },
  {
   "cell_type": "code",
   "execution_count": null,
   "metadata": {},
   "outputs": [],
   "source": [
    "def doc2text(file_path) :\n",
    "\n",
    "    if file_path.endswith('pdf'):\n",
    "        with fitz.open(file_path) as doc:\n",
    "            text = \"\"\n",
    "            for page in doc:\n",
    "                text += page.get_text()\n",
    "        return text\n",
    "    \n",
    "    elif file_path.endswith('docx') or file_path.endswith('DOCX') or file_path.endswith('Docx'):\n",
    "        document = Document(file_path)\n",
    "        text = []\n",
    "        for paragraph in document.paragraphs:\n",
    "            text.append(paragraph.text)\n",
    "        return '\\n'.join(text)\n",
    "\n",
    "    elif file_path.endswith('html') or file_path.endswith('HTML'):\n",
    "        with open(file_path, 'r', encoding='utf-8') as file:\n",
    "            html_content = file.read()\n",
    "        soup = BeautifulSoup(html_content, 'lxml')\n",
    "        return soup.get_text(separator='\\n', strip=True)\n",
    "\n",
    "    elif file_path.endswith('jpg') or file_path.endswith('jpeg') or file_path.endswith('png'):\n",
    "      image = Image.open(file_path)\n",
    "      extracted_text = pytesseract.image_to_string(image)\n",
    "      return extracted_text\n",
    "    \n",
    "text = doc2text(r\"C:\\Users\\nihar\\Downloads\\spanish.jpg\")\n",
    "if len(text)>15000:\n",
    "    print(\"Limit Exceeded\")\n",
    "    \n",
    "else:\n",
    "    L = input(\"To which language you want to translate this : \")\n",
    "    L = L.lower()\n",
    "    Language = ''\n",
    "    for i,j in lang.items():\n",
    "        if L == j:\n",
    "            Language = i\n",
    "    if Language == '':\n",
    "        print(\"This language is not supported\")\n",
    "    result = translator.translate(text,dest=Language)\n"
   ]
  },
  {
   "cell_type": "code",
   "execution_count": 3,
   "metadata": {},
   "outputs": [],
   "source": [
    "text = \"\"\"Video provides a powerful way to help you prove your point. When you click Online Video, you can paste in the embed code for the video you want to add. You can also type a keyword to search online for the video that best fits your document. To make your document look professionally produced, Word provides header, footer, cover page, and text box designs that complement each other.  \n",
    "\n",
    "For example, you can add a matching cover page, header, and sidebar. Click Insert and then choose the elements you want from the different galleries. Themes and styles also help keep your document coordinated. When you click Design and choose a new Theme, the pictures, charts, and SmartArt graphics change to match your new theme.  \n",
    "\n",
    "When you apply styles, your headings change to match the new theme. Save time in Word with new buttons that show up where you need them. To change the way a picture fits in your document, click it and a button for layout options appears next to it. When you work on a table, click where you want to add a row or a column, and then click the plus sign.  \n",
    "\n",
    "Reading is easier, too, in the new Reading view. You can collapse parts of the document and focus on the text you want. If you need to stop reading before you reach the end, Word remembers where you left off - even on another device. Video provides a powerful way to help you prove your point.  \n",
    "\n",
    "When you click Online Video, you can paste in the embed code for the video you want to add. You can also type a keyword to search online for the video that best fits your document. To make your document look professionally produced, Word provides header, footer, cover page, and text box designs that complement each other. For example, you can add a matching cover page, header, and sidebar.  \n",
    "\n",
    "Click Insert and then choose the elements you want from the different galleries. Themes and styles also help keep your document coordinated. When you click Design and choose a new Theme, the pictures, charts, and SmartArt graphics change to match your new theme. When you apply styles, your headings change to match the new theme.  \n",
    "\n",
    "Save time in Word with new buttons that show up where you need them. To change the way a picture fits in your document, click it and a button for layout options appears next to it. When you work on a table, click where you want to add a row or a column, and then click the plus sign. Reading is easier, too, in the new Reading view.  \n",
    "\n",
    "You can collapse parts of the document and focus on the text you want. If you need to stop reading before you reach the end, Word remembers where you left off - even on another device. Video provides a powerful way to help you prove your point. When you click Online Video, you can paste in the embed code for the video you want to add.  \n",
    "\n",
    "You can also type a keyword to search online for the video that best fits your document. To make your document look professionally produced, Word provides header, footer, cover page, and text box designs that complement each other. For example, you can add a matching cover page, header, and sidebar. Click Insert and then choose the elements you want from the different galleries.  \n",
    "\n",
    "Themes and styles also help keep your document coordinated. When you click Design and choose a new Theme, the pictures, charts, and SmartArt graphics change to match your new theme. When you apply styles, your headings change to match the new theme. Save time in Word with new buttons that show up where you need them.  \n",
    "\n",
    " \"\"\"\n",
    "L = input(\"To which language you want to translate this : \")\n",
    "L = L.lower()\n",
    "Language = ''\n",
    "for i,j in lang.items():\n",
    "    if L == j:\n",
    "        Language = i\n",
    "if Language == '':\n",
    "    print(\"This language is not supported\")\n",
    "result = translator.translate(text,dest=Language)"
   ]
  },
  {
   "cell_type": "code",
   "execution_count": 4,
   "metadata": {},
   "outputs": [
    {
     "name": "stdout",
     "output_type": "stream",
     "text": [
      "en\n",
      "वीडियो आपको अपनी बात साबित करने में मदद करने के लिए एक शक्तिशाली तरीका प्रदान करता है।जब आप ऑनलाइन वीडियो पर क्लिक करते हैं, तो आप उस वीडियो के लिए एम्बेड कोड में पेस्ट कर सकते हैं जिसे आप जोड़ना चाहते हैं।आप उस वीडियो के लिए ऑनलाइन खोज करने के लिए एक कीवर्ड भी टाइप कर सकते हैं जो आपके दस्तावेज़ को सबसे अच्छा लगता है।अपने दस्तावेज़ को पेशेवर रूप से निर्मित दिखाने के लिए, वर्ड हेडर, पाद, कवर पेज और टेक्स्ट बॉक्स डिज़ाइन प्रदान करता है जो एक दूसरे के पूरक हैं।\n",
      "\n",
      "उदाहरण के लिए, आप एक मिलान कवर पेज, हेडर और साइडबार जोड़ सकते हैं।सम्मिलित करें पर क्लिक करें और फिर उन तत्वों को चुनें जिन्हें आप विभिन्न दीर्घाओं से चाहते हैं।थीम और स्टाइल भी आपके दस्तावेज़ को समन्वित रखने में मदद करते हैं।जब आप डिज़ाइन पर क्लिक करते हैं और एक नया विषय चुनते हैं, तो आपके नए विषय से मेल खाने के लिए चित्र, चार्ट और स्मार्टआर्ट ग्राफिक्स बदलते हैं।\n",
      "\n",
      "जब आप शैलियों को लागू करते हैं, तो नए विषय से मेल खाने के लिए आपके शीर्षकों में बदलाव होता है।नए बटन के साथ शब्द में समय बचाएं जो दिखाते हैं कि आपको उनकी आवश्यकता कहां है।आपके दस्तावेज़ में एक तस्वीर फिट होने के तरीके को बदलने के लिए, इसे क्लिक करें और लेआउट विकल्पों के लिए एक बटन इसके बगल में दिखाई देता है।जब आप किसी तालिका पर काम करते हैं, तो क्लिक करें कि आप एक पंक्ति या एक कॉलम कहाँ जोड़ना चाहते हैं, और फिर प्लस साइन पर क्लिक करें।\n",
      "\n",
      "नए रीडिंग व्यू में भी पढ़ना आसान है।आप दस्तावेज़ के कुछ हिस्सों को ढह सकते हैं और अपने इच्छित पाठ पर ध्यान केंद्रित कर सकते हैं।यदि आपको अंत तक पहुंचने से पहले पढ़ना बंद करने की आवश्यकता है, तो शब्द याद है कि आप कहाँ से चले गए - यहां तक ​​कि किसी अन्य डिवाइस पर भी।वीडियो आपको अपनी बात साबित करने में मदद करने के लिए एक शक्तिशाली तरीका प्रदान करता है।\n",
      "\n",
      "जब आप ऑनलाइन वीडियो पर क्लिक करते हैं, तो आप उस वीडियो के लिए एम्बेड कोड में पेस्ट कर सकते हैं जिसे आप जोड़ना चाहते हैं।आप उस वीडियो के लिए ऑनलाइन खोज करने के लिए एक कीवर्ड भी टाइप कर सकते हैं जो आपके दस्तावेज़ को सबसे अच्छा लगता है।अपने दस्तावेज़ को पेशेवर रूप से निर्मित दिखाने के लिए, वर्ड हेडर, पाद, कवर पेज और टेक्स्ट बॉक्स डिज़ाइन प्रदान करता है जो एक दूसरे के पूरक हैं।उदाहरण के लिए, आप एक मिलान कवर पेज, हेडर और साइडबार जोड़ सकते हैं।\n",
      "\n",
      "सम्मिलित करें पर क्लिक करें और फिर उन तत्वों को चुनें जिन्हें आप विभिन्न दीर्घाओं से चाहते हैं।थीम और स्टाइल भी आपके दस्तावेज़ को समन्वित रखने में मदद करते हैं।जब आप डिज़ाइन पर क्लिक करते हैं और एक नया विषय चुनते हैं, तो आपके नए विषय से मेल खाने के लिए चित्र, चार्ट और स्मार्टआर्ट ग्राफिक्स बदलते हैं।जब आप शैलियों को लागू करते हैं, तो नए विषय से मेल खाने के लिए आपके शीर्षकों में बदलाव होता है।\n",
      "\n",
      "नए बटन के साथ शब्द में समय बचाएं जो दिखाते हैं कि आपको उनकी आवश्यकता कहां है।आपके दस्तावेज़ में एक तस्वीर फिट होने के तरीके को बदलने के लिए, इसे क्लिक करें और लेआउट विकल्पों के लिए एक बटन इसके बगल में दिखाई देता है।जब आप किसी तालिका पर काम करते हैं, तो क्लिक करें कि आप एक पंक्ति या एक कॉलम कहाँ जोड़ना चाहते हैं, और फिर प्लस साइन पर क्लिक करें।नए रीडिंग व्यू में भी पढ़ना आसान है।\n",
      "\n",
      "आप दस्तावेज़ के कुछ हिस्सों को ढह सकते हैं और अपने इच्छित पाठ पर ध्यान केंद्रित कर सकते हैं।यदि आपको अंत तक पहुंचने से पहले पढ़ना बंद करने की आवश्यकता है, तो शब्द याद है कि आप कहाँ से चले गए - यहां तक ​​कि किसी अन्य डिवाइस पर भी।वीडियो आपको अपनी बात साबित करने में मदद करने के लिए एक शक्तिशाली तरीका प्रदान करता है।जब आप ऑनलाइन वीडियो पर क्लिक करते हैं, तो आप उस वीडियो के लिए एम्बेड कोड में पेस्ट कर सकते हैं जिसे आप जोड़ना चाहते हैं।\n",
      "\n",
      "आप उस वीडियो के लिए ऑनलाइन खोज करने के लिए एक कीवर्ड भी टाइप कर सकते हैं जो आपके दस्तावेज़ को सबसे अच्छा लगता है।अपने दस्तावेज़ को पेशेवर रूप से निर्मित दिखाने के लिए, वर्ड हेडर, पाद, कवर पेज और टेक्स्ट बॉक्स डिज़ाइन प्रदान करता है जो एक दूसरे के पूरक हैं।उदाहरण के लिए, आप एक मिलान कवर पेज, हेडर और साइडबार जोड़ सकते हैं।सम्मिलित करें पर क्लिक करें और फिर उन तत्वों को चुनें जिन्हें आप विभिन्न दीर्घाओं से चाहते हैं।\n",
      "\n",
      "थीम और स्टाइल भी आपके दस्तावेज़ को समन्वित रखने में मदद करते हैं।जब आप डिज़ाइन पर क्लिक करते हैं और एक नया विषय चुनते हैं, तो आपके नए विषय से मेल खाने के लिए चित्र, चार्ट और स्मार्टआर्ट ग्राफिक्स बदलते हैं।जब आप शैलियों को लागू करते हैं, तो नए विषय से मेल खाने के लिए आपके शीर्षकों में बदलाव होता है।नए बटनों के साथ शब्द में समय बचाएं जो आपको उनकी आवश्यकता है, जहां आपको दिखाते हैं।\n"
     ]
    }
   ],
   "source": [
    "print(result.src)\n",
    "print(result.text)"
   ]
  },
  {
   "cell_type": "code",
   "execution_count": null,
   "metadata": {},
   "outputs": [],
   "source": [
    "from flask import Flask, render_template, request, jsonify\n",
    "from googletrans import Translator\n",
    "translator = Translator()\n",
    "import os\n",
    "import fitz  # PyMuPDF\n",
    "from docx import Document\n",
    "from bs4 import BeautifulSoup\n",
    "import pytesseract\n",
    "from PIL import Image\n",
    "\n",
    "app = Flask(__name__)\n",
    "\n",
    "@app.route('/')\n",
    "def home():\n",
    "    return render_template('index2.html')\n",
    "\n",
    "@app.route('/about')\n",
    "def about():\n",
    "    return render_template('About.html')  # Example, replace with about.html if needed\n",
    "\n",
    "@app.route('/contact')\n",
    "def contact():\n",
    "    return render_template('contact.html')  # Example, replace with contact.html if needed\n",
    "\n",
    "\n",
    "# LANGUAGE TRANSLATOR\n",
    "\n",
    "@app.route('/Translator')\n",
    "def Translator():\n",
    "    return render_template('Translator.html')  # Example, replace with contact.html if needed\n",
    "UPLOAD_FOLDER = \"uploads\"\n",
    "app.config[\"UPLOAD_FOLDER\"] = UPLOAD_FOLDER\n",
    "\n",
    "if not os.path.exists(UPLOAD_FOLDER):\n",
    "    os.makedirs(UPLOAD_FOLDER)\n",
    "\n",
    "def doc2text(file_path):\n",
    "    \"\"\"Extracts text from various file formats\"\"\"\n",
    "    if file_path.endswith(\".pdf\"):\n",
    "        with fitz.open(file_path) as doc:\n",
    "            text = \"\".join(page.get_text() for page in doc)\n",
    "        return text\n",
    "\n",
    "    elif file_path.endswith((\".docx\", \".DOCX\", \".Docx\")):\n",
    "        document = Document(file_path)\n",
    "        return \"\\n\".join(paragraph.text for paragraph in document.paragraphs)\n",
    "\n",
    "    elif file_path.endswith((\".html\", \".HTML\")):\n",
    "        with open(file_path, \"r\", encoding=\"utf-8\") as file:\n",
    "            soup = BeautifulSoup(file.read(), \"lxml\")\n",
    "        return soup.get_text(separator=\"\\n\", strip=True)\n",
    "\n",
    "    elif file_path.endswith((\".jpg\", \".jpeg\", \".png\")):\n",
    "        image = Image.open(file_path)\n",
    "        return pytesseract.image_to_string(image)\n",
    "\n",
    "    return \"\"\n",
    "\n",
    "@app.route(\"/upload\", methods=[\"POST\"])\n",
    "def upload_file():\n",
    "    if \"file\" not in request.files:\n",
    "        return jsonify({\"error\": \"No file uploaded\"}), 400\n",
    "    \n",
    "    file = request.files[\"file\"]\n",
    "    if file.filename == \"\":\n",
    "        return jsonify({\"error\": \"No selected file\"}), 400\n",
    "    \n",
    "    file_path = os.path.join(app.config[\"UPLOAD_FOLDER\"], file.filename)\n",
    "    file.save(file_path)\n",
    "\n",
    "    text = doc2text(file_path)\n",
    "\n",
    "    if len(text) > 15000:\n",
    "        return jsonify({\"error\": \"Character limit exceeded (15,000 characters max)\"}), 400\n",
    "\n",
    "    return jsonify({\"text\": text})\n",
    "\n",
    "@app.route(\"/translate\", methods=[\"POST\"])\n",
    "def translate():\n",
    "    # translator = Translator()\n",
    "    data = request.get_json()\n",
    "    text = data.get(\"text\")\n",
    "    language = data.get(\"language\",\"es\")\n",
    "    print(text)\n",
    "    print(language)\n",
    "    print(type(translator)) \n",
    "\n",
    "    if not text or not language:\n",
    "        return jsonify({\"error\": \"Missing text or language\"}), 400\n",
    "\n",
    "    translated = translator.translate(text, dest=language)\n",
    "    if translated and hasattr(translated, 'text'):\n",
    "        translated_text = translated.text\n",
    "    else:\n",
    "        translated_text = \"Translation failed\"\n",
    "    return jsonify({\"translated_text\": translated_text})\n",
    "\n",
    "if __name__ == '__main__':\n",
    "    app.run(debug=True)\n"
   ]
  },
  {
   "cell_type": "code",
   "execution_count": null,
   "metadata": {},
   "outputs": [],
   "source": []
  }
 ],
 "metadata": {
  "kernelspec": {
   "display_name": "Python 3",
   "language": "python",
   "name": "python3"
  },
  "language_info": {
   "codemirror_mode": {
    "name": "ipython",
    "version": 3
   },
   "file_extension": ".py",
   "mimetype": "text/x-python",
   "name": "python",
   "nbconvert_exporter": "python",
   "pygments_lexer": "ipython3",
   "version": "3.12.3"
  }
 },
 "nbformat": 4,
 "nbformat_minor": 2
}
